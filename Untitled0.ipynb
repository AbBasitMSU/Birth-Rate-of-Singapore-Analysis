{
  "nbformat": 4,
  "nbformat_minor": 0,
  "metadata": {
    "colab": {
      "name": "Untitled0.ipynb",
      "provenance": [],
      "collapsed_sections": [],
      "authorship_tag": "ABX9TyPf/W+ykCxlneWk9hpiVPG+",
      "include_colab_link": true
    },
    "kernelspec": {
      "name": "python3",
      "display_name": "Python 3"
    },
    "language_info": {
      "name": "python"
    }
  },
  "cells": [
    {
      "cell_type": "markdown",
      "metadata": {
        "id": "view-in-github",
        "colab_type": "text"
      },
      "source": [
        "<a href=\"https://colab.research.google.com/github/sbasit417/Birth-Rate-of-Singapore-Analysis/blob/main/Untitled0.ipynb\" target=\"_parent\"><img src=\"https://colab.research.google.com/assets/colab-badge.svg\" alt=\"Open In Colab\"/></a>"
      ]
    },
    {
      "cell_type": "markdown",
      "source": [
        "Data Cleaning\n",
        "In this process, data on the different variables will be loaded and clean in preparation for analysis."
      ],
      "metadata": {
        "id": "HO-lZfHp4AWD"
      }
    },
    {
      "cell_type": "code",
      "source": [
        "#importing necessary libraries\n",
        "import pandas as pd\n",
        "import numpy as np\n",
        "import matplotlib.pyplot as plt\n",
        "import re\n",
        "import seaborn as sns"
      ],
      "metadata": {
        "id": "cNDlMfL94FTQ"
      },
      "execution_count": null,
      "outputs": []
    },
    {
      "cell_type": "markdown",
      "source": [
        "1. Fertility Rate\n",
        "The fertility rate represents the average number of children a woman gives birth to. This dataset provide information of the fertility rate in Singapore between 1960 and 2018. In making sure fairness across the datasets of various factors, the dataset is filtered to a same time frame which is between 1993 and 2018. The total fertility rate is extracted from the raw dataset as it best describes our project objective."
      ],
      "metadata": {
        "id": "AsmLPAgb4Q08"
      }
    },
    {
      "cell_type": "code",
      "source": [
        "#Fertility Rate\n",
        "birth_rate_data = pd.read_csv('total-fertility-rate-and-reproduction-rate.csv')\n",
        "print('\\nBefore Data Cleaning')\n",
        "print('-'*6)\n",
        "display(birth_rate_data.head())\n",
        "\n",
        "print('\\nAfter Data Cleaning')\n",
        "print('-'*6)\n",
        "\n",
        "#Filtering level_1 = 'Total Fertility Rate' and dropping redundant column\n",
        "total_fertility_rate = birth_rate_data[birth_rate_data['level_1']=='Total Fertility Rate']\n",
        "total_fertility_rate = total_fertility_rate.drop(columns='level_1')\n",
        "\n",
        "#Filtering year to between 1993 and 2018; Renaming column\n",
        "total_fertility_rate = total_fertility_rate[total_fertility_rate['year']>=1993]\n",
        "total_fertility_rate = total_fertility_rate[total_fertility_rate['year']<=2018]\n",
        "total_fertility_rate = total_fertility_rate.rename(columns={'value': 'total_fertility_rate'})\n",
        "\n",
        "total_fertility_rate = total_fertility_rate.reset_index(drop=True)\n",
        "display(total_fertility_rate.tail())"
      ],
      "metadata": {
        "id": "PU6sR5zc4Sem"
      },
      "execution_count": null,
      "outputs": []
    }
  ]
}