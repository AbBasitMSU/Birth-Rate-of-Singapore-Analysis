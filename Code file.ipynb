{
  "nbformat": 4,
  "nbformat_minor": 0,
  "metadata": {
    "colab": {
      "name": "Untitled0.ipynb",
      "provenance": [],
      "collapsed_sections": [],
      "authorship_tag": "ABX9TyNxl8NhKN48vw6DLjC4WT4o",
      "include_colab_link": true
    },
    "kernelspec": {
      "name": "python3",
      "display_name": "Python 3"
    },
    "language_info": {
      "name": "python"
    }
  },
  "cells": [
    {
      "cell_type": "markdown",
      "metadata": {
        "id": "view-in-github",
        "colab_type": "text"
      },
      "source": [
        "<a href=\"https://colab.research.google.com/github/sbasit417/Birth-Rate-of-Singapore-Analysis/blob/main/Code%20file.ipynb\" target=\"_parent\"><img src=\"https://colab.research.google.com/assets/colab-badge.svg\" alt=\"Open In Colab\"/></a>"
      ]
    },
    {
      "cell_type": "markdown",
      "source": [
        "Data Cleaning\n",
        "In this process, data on the different variables will be loaded and clean in preparation for analysis."
      ],
      "metadata": {
        "id": "HO-lZfHp4AWD"
      }
    },
    {
      "cell_type": "code",
      "source": [
        "#importing necessary libraries\n",
        "import pandas as pd\n",
        "import numpy as np\n",
        "import matplotlib.pyplot as plt\n",
        "import re\n",
        "import seaborn as sns"
      ],
      "metadata": {
        "id": "cNDlMfL94FTQ"
      },
      "execution_count": null,
      "outputs": []
    },
    {
      "cell_type": "markdown",
      "source": [
        "1. Fertility Rate\n",
        "The fertility rate represents the average number of children a woman gives birth to. This dataset provide information of the fertility rate in Singapore between 1960 and 2018. In making sure fairness across the datasets of various factors, the dataset is filtered to a same time frame which is between 1993 and 2018. The total fertility rate is extracted from the raw dataset as it best describes our project objective."
      ],
      "metadata": {
        "id": "AsmLPAgb4Q08"
      }
    },
    {
      "cell_type": "code",
      "source": [
        "#Fertility Rate\n",
        "birth_rate_data = pd.read_csv('total-fertility-rate-and-reproduction-rate.csv')\n",
        "print('\\nBefore Data Cleaning')\n",
        "print('-'*6)\n",
        "display(birth_rate_data.head())\n",
        "\n",
        "print('\\nAfter Data Cleaning')\n",
        "print('-'*6)\n",
        "\n",
        "#Filtering level_1 = 'Total Fertility Rate' and dropping redundant column\n",
        "total_fertility_rate = birth_rate_data[birth_rate_data['level_1']=='Total Fertility Rate']\n",
        "total_fertility_rate = total_fertility_rate.drop(columns='level_1')\n",
        "\n",
        "#Filtering year to between 1993 and 2018; Renaming column\n",
        "total_fertility_rate = total_fertility_rate[total_fertility_rate['year']>=1993]\n",
        "total_fertility_rate = total_fertility_rate[total_fertility_rate['year']<=2018]\n",
        "total_fertility_rate = total_fertility_rate.rename(columns={'value': 'total_fertility_rate'})\n",
        "\n",
        "total_fertility_rate = total_fertility_rate.reset_index(drop=True)\n",
        "display(total_fertility_rate.tail())"
      ],
      "metadata": {
        "id": "PU6sR5zc4Sem"
      },
      "execution_count": null,
      "outputs": []
    },
    {
      "cell_type": "markdown",
      "source": [
        "2. Education Level\n",
        "Education is one of the many factors that will be analysed as it is reflective of Singapore's education level. Singapore provides one of the best education to its young generation and we aim to understand its significance in contributing to the decreasing in birth rate. The dataset variables such as year, sex and number of enrollment in individual school. Data manipulation is applied to gather the total number of enrollment between 1993 and 2018."
      ],
      "metadata": {
        "id": "nYQwNoquUic9"
      }
    },
    {
      "cell_type": "code",
      "source": [
        "education_level_data = pd.read_csv('intake-by-institutions.csv')\n",
        "print('\\nBefore Data Cleaning')\n",
        "print('-'*6)\n",
        "display(education_level_data.head())\n",
        "\n",
        "print('\\nAfter Data Cleaning')\n",
        "print('-'*6)\n",
        "\n",
        "university_intake = education_level_data[education_level_data['sex']=='MF'][['year', 'nus', 'ntu', 'smu', 'sit', 'sutd', 'suss']] \n",
        "\n",
        "#Replacing '-' with 0 \n",
        "university_intake = university_intake.replace('-', 0) #since according to website, \"'-' : Data is negligible or not significant\"\n",
        "\n",
        "#Setting data type for calculation process\n",
        "university_intake['smu'] = university_intake['smu'].astype(int)\n",
        "university_intake['sit'] = university_intake['sit'].astype(int)\n",
        "university_intake['sutd'] = university_intake['sutd'].astype(int)\n",
        "university_intake['suss'] = university_intake['suss'].astype(int)\n",
        "\n",
        "#Calculating the total number of enrollment\n",
        "university_intake['total_student_intake'] = university_intake['nus'].add(university_intake['ntu']).add(university_intake['smu']).add(university_intake['sit']).add(university_intake['sutd']).add(university_intake['suss'])\n",
        "\n",
        "#Filtering years\n",
        "university_intake = university_intake[university_intake['year']>=1993]\n",
        "university_intake = university_intake[university_intake['year']<=2018]\n",
        "\n",
        "#Removing unused columns\n",
        "university_intake = university_intake.drop(columns = ['nus', 'ntu', 'smu', 'sit', 'sutd', 'suss'])\n",
        "\n",
        "university_intake = university_intake.reset_index(drop=True)\n",
        "display(university_intake.tail())"
      ],
      "metadata": {
        "id": "oC7_G6CrUjTX"
      },
      "execution_count": null,
      "outputs": []
    }
  ]
}